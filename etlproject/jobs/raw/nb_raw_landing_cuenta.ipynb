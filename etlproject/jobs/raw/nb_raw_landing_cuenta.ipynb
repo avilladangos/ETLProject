{
 "cells": [
  {
   "cell_type": "markdown",
   "metadata": {},
   "source": [
    "### Este es un ejemplo de notebook de Databricks para el proceso ETL\n"
   ]
  },
  {
   "cell_type": "code",
   "execution_count": 5,
   "metadata": {},
   "outputs": [],
   "source": [
    "import os\n",
    "import sys\n",
    "os.chdir(r'c:\\Users\\avilladangos\\OneDrive - ifema.es\\Desktop\\Proyectos\\ETLProject')\n",
    "sys.path.append(r'c:\\Users\\avilladangos\\OneDrive - ifema.es\\Desktop\\Proyectos\\ETLProject')"
   ]
  },
  {
   "cell_type": "markdown",
   "metadata": {},
   "source": [
    "### Cargar bibliotecas necesarias"
   ]
  },
  {
   "cell_type": "code",
   "execution_count": 6,
   "metadata": {},
   "outputs": [],
   "source": [
    "import pandas as pd\n",
    "import json\n",
    "from scripts.etl_script import etl_process"
   ]
  },
  {
   "cell_type": "markdown",
   "metadata": {},
   "source": [
    "### Cargar datos"
   ]
  },
  {
   "cell_type": "code",
   "execution_count": 8,
   "metadata": {},
   "outputs": [
    {
     "name": "stdout",
     "output_type": "stream",
     "text": [
      "Datos de entrada:\n",
      "   ID   Nombre  Edad         Ciudad\n",
      "0   1     John    30       New York\n",
      "1   2    Alice    25    Los Angeles\n",
      "2   3  Michael    35        Chicago\n",
      "3   4    Emily    28  San Francisco\n",
      "4   5    David    40        Houston\n"
     ]
    }
   ],
   "source": [
    "# Cargar configuración\n",
    "with open(\"config/etl_config.json\", \"r\") as config_file:\n",
    "    config = json.load(config_file)\n",
    "\n",
    "# Leer ruta de entrada y salida desde la configuración\n",
    "input_path = config[\"input_path\"] + 'dataset.csv'\n",
    "output_path = config[\"output_path\"] + 'processed.csv'\n",
    "\n",
    "# Cargar datos\n",
    "input_data = pd.read_csv(input_path)\n",
    "print(\"Datos de entrada:\")\n",
    "print(input_data)"
   ]
  },
  {
   "cell_type": "markdown",
   "metadata": {},
   "source": [
    "### Realizar el proceso ETL"
   ]
  },
  {
   "cell_type": "code",
   "execution_count": 9,
   "metadata": {},
   "outputs": [
    {
     "name": "stdout",
     "output_type": "stream",
     "text": [
      "\n",
      "Datos procesados:\n",
      "   ID          Nombre  Edad                      Ciudad\n",
      "0   2        JohnJohn    60            New YorkNew York\n",
      "1   4      AliceAlice    50      Los AngelesLos Angeles\n",
      "2   6  MichaelMichael    70              ChicagoChicago\n",
      "3   8      EmilyEmily    56  San FranciscoSan Francisco\n",
      "4  10      DavidDavid    80              HoustonHouston\n"
     ]
    }
   ],
   "source": [
    "\n",
    "# Realizar el proceso ETL\n",
    "output_data = etl_process(input_data)\n",
    "print(\"\\nDatos procesados:\")\n",
    "print(output_data)\n"
   ]
  },
  {
   "cell_type": "markdown",
   "metadata": {},
   "source": [
    "### Guardar datos procesados"
   ]
  },
  {
   "cell_type": "code",
   "execution_count": 40,
   "metadata": {},
   "outputs": [],
   "source": [
    "\n",
    "output_data.to_csv(output_path, index=False)\n"
   ]
  }
 ],
 "metadata": {
  "kernelspec": {
   "display_name": "base",
   "language": "python",
   "name": "python3"
  },
  "language_info": {
   "codemirror_mode": {
    "name": "ipython",
    "version": 3
   },
   "file_extension": ".py",
   "mimetype": "text/x-python",
   "name": "python",
   "nbconvert_exporter": "python",
   "pygments_lexer": "ipython3",
   "version": "3.11.3"
  }
 },
 "nbformat": 4,
 "nbformat_minor": 2
}
